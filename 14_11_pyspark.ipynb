{
  "nbformat": 4,
  "nbformat_minor": 0,
  "metadata": {
    "colab": {
      "provenance": [],
      "authorship_tag": "ABX9TyOEPZyEefbk8gCteLQIQ0FF"
    },
    "kernelspec": {
      "name": "python3",
      "display_name": "Python 3"
    },
    "language_info": {
      "name": "python"
    }
  },
  "cells": [
    {
      "cell_type": "code",
      "execution_count": null,
      "metadata": {
        "colab": {
          "base_uri": "https://localhost:8080/"
        },
        "id": "JCOwQoiAerCP",
        "outputId": "c4e460d0-0386-4d10-e27d-18f59536f8d8"
      },
      "outputs": [
        {
          "output_type": "stream",
          "name": "stdout",
          "text": [
            "pip 24.1.2 from /usr/local/lib/python3.10/dist-packages/pip (python 3.10)\n"
          ]
        }
      ],
      "source": [
        "pip --version"
      ]
    },
    {
      "cell_type": "code",
      "source": [
        "!pip install pyspark py4j"
      ],
      "metadata": {
        "colab": {
          "base_uri": "https://localhost:8080/"
        },
        "id": "_Gbl8jnXe8ay",
        "outputId": "cb8dadc6-664e-4dc6-cae8-e8037e7dc3af"
      },
      "execution_count": null,
      "outputs": [
        {
          "output_type": "stream",
          "name": "stdout",
          "text": [
            "Collecting pyspark\n",
            "  Downloading pyspark-3.5.2.tar.gz (317.3 MB)\n",
            "\u001b[2K     \u001b[90m━━━━━━━━━━━━━━━━━━━━━━━━━━━━━━━━━━━━━━━━\u001b[0m \u001b[32m317.3/317.3 MB\u001b[0m \u001b[31m4.5 MB/s\u001b[0m eta \u001b[36m0:00:00\u001b[0m\n",
            "\u001b[?25h  Preparing metadata (setup.py) ... \u001b[?25l\u001b[?25hdone\n",
            "Requirement already satisfied: py4j in /usr/local/lib/python3.10/dist-packages (0.10.9.7)\n",
            "Building wheels for collected packages: pyspark\n",
            "  Building wheel for pyspark (setup.py) ... \u001b[?25l\u001b[?25hdone\n",
            "  Created wheel for pyspark: filename=pyspark-3.5.2-py2.py3-none-any.whl size=317812365 sha256=19fe6f84a998bc48235b16a544c9ca18bbd580253560a8217cf06c16e91ad7af\n",
            "  Stored in directory: /root/.cache/pip/wheels/34/34/bd/03944534c44b677cd5859f248090daa9fb27b3c8f8e5f49574\n",
            "Successfully built pyspark\n",
            "Installing collected packages: pyspark\n",
            "Successfully installed pyspark-3.5.2\n"
          ]
        }
      ]
    },
    {
      "cell_type": "code",
      "source": [
        "!pip install faker"
      ],
      "metadata": {
        "colab": {
          "base_uri": "https://localhost:8080/"
        },
        "id": "VqBuEVvDyvEu",
        "outputId": "463cbfd4-14cf-4ab3-cd49-a60fc6ad6b15"
      },
      "execution_count": 24,
      "outputs": [
        {
          "output_type": "stream",
          "name": "stdout",
          "text": [
            "Collecting faker\n",
            "  Downloading Faker-28.4.1-py3-none-any.whl.metadata (15 kB)\n",
            "Requirement already satisfied: python-dateutil>=2.4 in /usr/local/lib/python3.10/dist-packages (from faker) (2.8.2)\n",
            "Requirement already satisfied: six>=1.5 in /usr/local/lib/python3.10/dist-packages (from python-dateutil>=2.4->faker) (1.16.0)\n",
            "Downloading Faker-28.4.1-py3-none-any.whl (1.8 MB)\n",
            "\u001b[2K   \u001b[90m━━━━━━━━━━━━━━━━━━━━━━━━━━━━━━━━━━━━━━━━\u001b[0m \u001b[32m1.8/1.8 MB\u001b[0m \u001b[31m29.1 MB/s\u001b[0m eta \u001b[36m0:00:00\u001b[0m\n",
            "\u001b[?25hInstalling collected packages: faker\n",
            "Successfully installed faker-28.4.1\n"
          ]
        }
      ]
    },
    {
      "cell_type": "code",
      "source": [
        "import csv\n",
        "from faker import Faker\n",
        "import random\n",
        "\n",
        "fake = Faker()\n",
        "\n",
        "num_records = 100000\n",
        "\n",
        "http_methods = ['GET', 'POST', 'PUT', 'DELETE']\n",
        "response_codes = [200, 301, 404, 500]\n",
        "\n",
        "file_path = \"web_server_logs.csv\"\n",
        "\n",
        "with open(file_path, mode='w', newline='') as file:\n",
        "    writer = csv.writer(file)\n",
        "    writer.writerow(['ip', 'timestamp', 'method', 'url', 'response_code', 'response_size'])\n",
        "\n",
        "    for _ in range(num_records):\n",
        "        ip = fake.ipv4()\n",
        "        timestamp = fake.date_time_this_year().isoformat()\n",
        "        method = random.choice(http_methods)\n",
        "        url = fake.uri_path()\n",
        "        response_code = random.choice(response_codes)\n",
        "        response_size = random.randint(100, 10000)\n",
        "\n",
        "        writer.writerow([ip, timestamp, method, url, response_code, response_size])\n",
        "\n",
        "print(f\"Сгенерировано {num_records} записей и сохранено в {file_path}\")"
      ],
      "metadata": {
        "colab": {
          "base_uri": "https://localhost:8080/"
        },
        "id": "mDZB0WfWyxtE",
        "outputId": "bc4d2f71-5415-42ff-d33b-0cef90a8739d"
      },
      "execution_count": 25,
      "outputs": [
        {
          "output_type": "stream",
          "name": "stdout",
          "text": [
            "Сгенерировано 100000 записей и сохранено в web_server_logs.csv\n"
          ]
        }
      ]
    },
    {
      "cell_type": "code",
      "source": [
        "from pyspark.sql import SparkSession\n",
        "from pyspark.sql.functions import col, to_date\n",
        "\n",
        "# Создание SparkSession\n",
        "spark = SparkSession.builder.appName(\"Final task\").getOrCreate()\n",
        "\n",
        "# Чтение CSV-файла\n",
        "logs_df = spark.read.csv(\"web_server_logs.csv\", header=True, inferSchema=True)\n",
        "\n",
        "# Сгруппируйте данные по IP и посчитайте количество запросов для каждого IP, выводим 10 самых активных IP\n",
        "top_ip = logs_df.groupBy(\"ip\").count().orderBy(col(\"count\").desc()).limit(10)\n",
        "print('Топ 10 активных IP адресов:')\n",
        "top_ip.show()\n",
        "\n",
        "# Сгруппируйте данные по HTTP-методу и посчитайте количество запросов для каждого метода.\n",
        "count_response_for_method = logs_df.groupBy(\"method\").count().orderBy(col(\"count\").desc())\n",
        "print(\"Количество запросов для каждого метода:\")\n",
        "count_response_for_method.show()\n",
        "\n",
        "# Профильтруйте и посчитайте количество запросов с кодом ответа 404.\n",
        "count_response_404 = logs_df.filter(col(\"response_code\") == 404).count()\n",
        "print(f\"Количество запросов с кодом ответа 404: {count_response_404}\")\n",
        "\n",
        "# Сгруппируйте данные по дате и просуммируйте размер ответов, сортируйте по дате.\n",
        "response_size_per_date = logs_df.withColumn(\"timestamp\", to_date(\"timestamp\", \"yyyy-MM-dd\"))\\\n",
        ".withColumnRenamed(\"timestamp\", \"date\")\\\n",
        ".groupBy(\"date\").sum(\"response_size\").orderBy(col(\"date\")).limit(20)\n",
        "print(\"Размер ответов в каждый день:\")\n",
        "response_size_per_date.show()\n"
      ],
      "metadata": {
        "colab": {
          "base_uri": "https://localhost:8080/"
        },
        "id": "ib_g1ab8dWPG",
        "outputId": "97b14926-42b2-45cc-f519-b79c51ba82ec"
      },
      "execution_count": 50,
      "outputs": [
        {
          "output_type": "stream",
          "name": "stdout",
          "text": [
            "Топ 10 активных IP адресов:\n",
            "+---------------+-----+\n",
            "|             ip|count|\n",
            "+---------------+-----+\n",
            "|  55.95.146.189|    1|\n",
            "| 184.112.10.129|    1|\n",
            "|  8.206.141.177|    1|\n",
            "|  84.13.175.225|    1|\n",
            "|  112.226.233.4|    1|\n",
            "|179.223.151.182|    1|\n",
            "|   12.42.129.41|    1|\n",
            "|  217.138.7.130|    1|\n",
            "| 86.106.234.105|    1|\n",
            "| 41.149.217.215|    1|\n",
            "+---------------+-----+\n",
            "\n",
            "Количество запросов для каждого метода:\n",
            "+------+-----+\n",
            "|method|count|\n",
            "+------+-----+\n",
            "|DELETE|25119|\n",
            "|   GET|25087|\n",
            "|  POST|24947|\n",
            "|   PUT|24847|\n",
            "+------+-----+\n",
            "\n",
            "Количество запросов с кодом ответа 404: 24935\n",
            "Размер ответов в каждый день:\n",
            "+----------+------------------+\n",
            "|      date|sum(response_size)|\n",
            "+----------+------------------+\n",
            "|2024-01-01|           2154079|\n",
            "|2024-01-02|           2252543|\n",
            "|2024-01-03|           1923559|\n",
            "|2024-01-04|           2141237|\n",
            "|2024-01-05|           2106986|\n",
            "|2024-01-06|           2152843|\n",
            "|2024-01-07|           2057161|\n",
            "|2024-01-08|           2191960|\n",
            "|2024-01-09|           1878418|\n",
            "|2024-01-10|           2127790|\n",
            "|2024-01-11|           1914141|\n",
            "|2024-01-12|           1973670|\n",
            "|2024-01-13|           1898391|\n",
            "|2024-01-14|           1987947|\n",
            "|2024-01-15|           2069238|\n",
            "|2024-01-16|           1995601|\n",
            "|2024-01-17|           1960955|\n",
            "|2024-01-18|           2035141|\n",
            "|2024-01-19|           2028306|\n",
            "|2024-01-20|           2268274|\n",
            "+----------+------------------+\n",
            "\n"
          ]
        }
      ]
    }
  ]
}